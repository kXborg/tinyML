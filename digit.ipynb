{
 "cells": [
  {
   "cell_type": "code",
   "execution_count": null,
   "id": "20d49ebc-ef97-4cda-bc20-6bf152de58ef",
   "metadata": {},
   "outputs": [],
   "source": [
    "!pip install scikit-learn"
   ]
  },
  {
   "cell_type": "code",
   "execution_count": 6,
   "id": "adb477cf-999f-45d1-897c-97d40d502fc6",
   "metadata": {},
   "outputs": [
    {
     "name": "stdout",
     "output_type": "stream",
     "text": [
      "Epoch 1/10\n",
      "45/45 [==============================] - 7s 17ms/step - loss: 2.1439 - accuracy: 0.2937 - val_loss: 1.9932 - val_accuracy: 0.4528\n",
      "Epoch 2/10\n",
      "45/45 [==============================] - 0s 5ms/step - loss: 1.7802 - accuracy: 0.6534 - val_loss: 1.6009 - val_accuracy: 0.7306\n",
      "Epoch 3/10\n",
      "45/45 [==============================] - 0s 5ms/step - loss: 1.3599 - accuracy: 0.8225 - val_loss: 1.1930 - val_accuracy: 0.8111\n",
      "Epoch 4/10\n",
      "45/45 [==============================] - 0s 5ms/step - loss: 0.9620 - accuracy: 0.8685 - val_loss: 0.8389 - val_accuracy: 0.8361\n",
      "Epoch 5/10\n",
      "45/45 [==============================] - 0s 5ms/step - loss: 0.6911 - accuracy: 0.8887 - val_loss: 0.6357 - val_accuracy: 0.8528\n",
      "Epoch 6/10\n",
      "45/45 [==============================] - 0s 5ms/step - loss: 0.5333 - accuracy: 0.8949 - val_loss: 0.5097 - val_accuracy: 0.8694\n",
      "Epoch 7/10\n",
      "45/45 [==============================] - 0s 5ms/step - loss: 0.4385 - accuracy: 0.9116 - val_loss: 0.4366 - val_accuracy: 0.8889\n",
      "Epoch 8/10\n",
      "45/45 [==============================] - 0s 5ms/step - loss: 0.3754 - accuracy: 0.9186 - val_loss: 0.3992 - val_accuracy: 0.8889\n",
      "Epoch 9/10\n",
      "45/45 [==============================] - 0s 5ms/step - loss: 0.3342 - accuracy: 0.9200 - val_loss: 0.3569 - val_accuracy: 0.8889\n",
      "Epoch 10/10\n",
      "45/45 [==============================] - 0s 6ms/step - loss: 0.2991 - accuracy: 0.9297 - val_loss: 0.3189 - val_accuracy: 0.8944\n"
     ]
    },
    {
     "name": "stderr",
     "output_type": "stream",
     "text": [
      "WARNING:absl:Found untraced functions such as _jit_compiled_convolution_op while saving (showing 1 of 1). These functions will not be directly callable after loading.\n"
     ]
    },
    {
     "name": "stdout",
     "output_type": "stream",
     "text": [
      "INFO:tensorflow:Assets written to: C:\\Users\\kukil\\AppData\\Local\\Temp\\tmpc40wbti7\\assets\n"
     ]
    },
    {
     "name": "stderr",
     "output_type": "stream",
     "text": [
      "INFO:tensorflow:Assets written to: C:\\Users\\kukil\\AppData\\Local\\Temp\\tmpc40wbti7\\assets\n"
     ]
    }
   ],
   "source": [
    "import tensorflow as tf\n",
    "from sklearn.datasets import load_digits\n",
    "from sklearn.model_selection import train_test_split\n",
    "\n",
    "# Load 8x8 digits dataset\n",
    "digits = load_digits()\n",
    "X = digits.images / 16.0   # normalize [0-1]\n",
    "y = digits.target\n",
    "\n",
    "X = X.reshape((-1, 8, 8, 1))\n",
    "X_train, X_test, y_train, y_test = train_test_split(X, y, test_size=0.2)\n",
    "\n",
    "# Build tiny CNN\n",
    "model = tf.keras.Sequential([\n",
    "    tf.keras.layers.Conv2D(4, (3,3), activation='relu', input_shape=(8,8,1)),\n",
    "    tf.keras.layers.Flatten(),\n",
    "    tf.keras.layers.Dense(10, activation='softmax')\n",
    "])\n",
    "\n",
    "model.compile(optimizer='adam', loss='sparse_categorical_crossentropy', metrics=['accuracy'])\n",
    "model.fit(X_train, y_train, epochs=10, validation_data=(X_test, y_test))\n",
    "\n",
    "# Export to TFLite\n",
    "converter = tf.lite.TFLiteConverter.from_keras_model(model)\n",
    "converter.optimizations = [tf.lite.Optimize.DEFAULT]  # quantize\n",
    "tflite_model = converter.convert()\n",
    "\n",
    "with open(\"digit_model.tflite\", \"wb\") as f:\n",
    "    f.write(tflite_model)\n"
   ]
  },
  {
   "cell_type": "code",
   "execution_count": 8,
   "id": "b10131a3-918f-4fea-b683-b6bd57a681ad",
   "metadata": {},
   "outputs": [
    {
     "name": "stdout",
     "output_type": "stream",
     "text": [
      " Volume in drive C is Windows-SSD\n",
      " Volume Serial Number is 143F-0886\n",
      "\n",
      " Directory of C:\\Users\\kukil\\Desktop\\OpenCV University\\tinyML\n",
      "\n",
      "09/21/2025  11:17 PM    <DIR>          .\n",
      "09/21/2025  10:54 PM    <DIR>          ..\n",
      "09/21/2025  10:54 PM             4,895 .gitignore\n",
      "09/21/2025  10:55 PM    <DIR>          .ipynb_checkpoints\n",
      "09/21/2025  11:17 PM             2,198 digit.ipynb\n",
      "09/21/2025  11:17 PM             3,816 digit_model.tflite\n",
      "09/21/2025  10:54 PM            11,558 LICENSE\n",
      "09/21/2025  10:54 PM                46 README.md\n",
      "               5 File(s)         22,513 bytes\n",
      "               3 Dir(s)  341,005,053,952 bytes free\n"
     ]
    }
   ],
   "source": [
    "!dir"
   ]
  },
  {
   "cell_type": "code",
   "execution_count": null,
   "id": "2b4a26e9-5349-4446-b839-ef1212040979",
   "metadata": {},
   "outputs": [],
   "source": []
  }
 ],
 "metadata": {
  "kernelspec": {
   "display_name": "tinyML",
   "language": "python",
   "name": "tinyml"
  },
  "language_info": {
   "codemirror_mode": {
    "name": "ipython",
    "version": 3
   },
   "file_extension": ".py",
   "mimetype": "text/x-python",
   "name": "python",
   "nbconvert_exporter": "python",
   "pygments_lexer": "ipython3",
   "version": "3.10.18"
  }
 },
 "nbformat": 4,
 "nbformat_minor": 5
}
