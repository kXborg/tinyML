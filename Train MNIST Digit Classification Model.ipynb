{
 "cells": [
  {
   "cell_type": "code",
   "execution_count": null,
   "id": "20d49ebc-ef97-4cda-bc20-6bf152de58ef",
   "metadata": {},
   "outputs": [],
   "source": [
    "!pip install scikit-learn"
   ]
  },
  {
   "cell_type": "code",
   "execution_count": 1,
   "id": "adb477cf-999f-45d1-897c-97d40d502fc6",
   "metadata": {},
   "outputs": [
    {
     "name": "stdout",
     "output_type": "stream",
     "text": [
      "Epoch 1/10\n",
      "45/45 [==============================] - 7s 15ms/step - loss: 2.2125 - accuracy: 0.2143 - val_loss: 1.9976 - val_accuracy: 0.4167\n",
      "Epoch 2/10\n",
      "45/45 [==============================] - 0s 4ms/step - loss: 1.7709 - accuracy: 0.6256 - val_loss: 1.4940 - val_accuracy: 0.8167\n",
      "Epoch 3/10\n",
      "45/45 [==============================] - 0s 4ms/step - loss: 1.2606 - accuracy: 0.8399 - val_loss: 1.0067 - val_accuracy: 0.9000\n",
      "Epoch 4/10\n",
      "45/45 [==============================] - 0s 3ms/step - loss: 0.8511 - accuracy: 0.8900 - val_loss: 0.6955 - val_accuracy: 0.9139\n",
      "Epoch 5/10\n",
      "45/45 [==============================] - 0s 4ms/step - loss: 0.6049 - accuracy: 0.9102 - val_loss: 0.5099 - val_accuracy: 0.9361\n",
      "Epoch 6/10\n",
      "45/45 [==============================] - 0s 4ms/step - loss: 0.4657 - accuracy: 0.9179 - val_loss: 0.4122 - val_accuracy: 0.9333\n",
      "Epoch 7/10\n",
      "45/45 [==============================] - 0s 4ms/step - loss: 0.3828 - accuracy: 0.9235 - val_loss: 0.3504 - val_accuracy: 0.9417\n",
      "Epoch 8/10\n",
      "45/45 [==============================] - 0s 4ms/step - loss: 0.3296 - accuracy: 0.9290 - val_loss: 0.2985 - val_accuracy: 0.9556\n",
      "Epoch 9/10\n",
      "45/45 [==============================] - 0s 4ms/step - loss: 0.2907 - accuracy: 0.9353 - val_loss: 0.2743 - val_accuracy: 0.9444\n",
      "Epoch 10/10\n",
      "45/45 [==============================] - 0s 5ms/step - loss: 0.2652 - accuracy: 0.9395 - val_loss: 0.2471 - val_accuracy: 0.9472\n"
     ]
    },
    {
     "name": "stderr",
     "output_type": "stream",
     "text": [
      "WARNING:absl:Found untraced functions such as _jit_compiled_convolution_op while saving (showing 1 of 1). These functions will not be directly callable after loading.\n"
     ]
    },
    {
     "name": "stdout",
     "output_type": "stream",
     "text": [
      "INFO:tensorflow:Assets written to: C:\\Users\\kukil\\AppData\\Local\\Temp\\tmpepbhw1d_\\assets\n"
     ]
    },
    {
     "name": "stderr",
     "output_type": "stream",
     "text": [
      "INFO:tensorflow:Assets written to: C:\\Users\\kukil\\AppData\\Local\\Temp\\tmpepbhw1d_\\assets\n",
      "C:\\Users\\kukil\\.conda\\envs\\tinyML\\lib\\site-packages\\tensorflow\\lite\\python\\convert.py:766: UserWarning: Statistics for quantized inputs were expected, but not specified; continuing anyway.\n",
      "  warnings.warn(\"Statistics for quantized inputs were expected, but not \"\n"
     ]
    }
   ],
   "source": [
    "import numpy as np\n",
    "import tensorflow as tf\n",
    "from sklearn.datasets import load_digits\n",
    "from sklearn.model_selection import train_test_split\n",
    "\n",
    "# Load dataset\n",
    "digits = load_digits()\n",
    "X = digits.images / 16.0\n",
    "y = digits.target\n",
    "X = X.reshape((-1, 8, 8, 1))\n",
    "X_train, X_test, y_train, y_test = train_test_split(X, y, test_size=0.2)\n",
    "\n",
    "# Build tiny CNN\n",
    "model = tf.keras.Sequential([\n",
    "    tf.keras.layers.Conv2D(4, (3,3), activation='relu', input_shape=(8,8,1)),\n",
    "    tf.keras.layers.Flatten(),\n",
    "    tf.keras.layers.Dense(10, activation='softmax')\n",
    "])\n",
    "model.compile(optimizer='adam', loss='sparse_categorical_crossentropy', metrics=['accuracy'])\n",
    "model.fit(X_train, y_train, epochs=10, validation_data=(X_test, y_test))\n",
    "\n",
    "# Representative dataset for int8 quantization\n",
    "def representative_dataset():\n",
    "    for i in range(len(X_train)):\n",
    "        yield [X_train[i:i+1].astype(np.float32)]\n",
    "\n",
    "# Convert to fully int8\n",
    "converter = tf.lite.TFLiteConverter.from_keras_model(model)\n",
    "converter.optimizations = [tf.lite.Optimize.DEFAULT]\n",
    "converter.representative_dataset = representative_dataset\n",
    "converter.target_spec.supported_ops = [tf.lite.OpsSet.TFLITE_BUILTINS_INT8]\n",
    "converter.inference_input_type = tf.int8\n",
    "converter.inference_output_type = tf.int8\n",
    "tflite_model = converter.convert()\n",
    "\n",
    "# Save fully int8 TFLite model\n",
    "with open(\"digit_model_int8.tflite\", \"wb\") as f:\n",
    "    f.write(tflite_model)\n"
   ]
  },
  {
   "cell_type": "code",
   "execution_count": null,
   "id": "2b4a26e9-5349-4446-b839-ef1212040979",
   "metadata": {},
   "outputs": [],
   "source": []
  }
 ],
 "metadata": {
  "kernelspec": {
   "display_name": "tinyML",
   "language": "python",
   "name": "tinyml"
  },
  "language_info": {
   "codemirror_mode": {
    "name": "ipython",
    "version": 3
   },
   "file_extension": ".py",
   "mimetype": "text/x-python",
   "name": "python",
   "nbconvert_exporter": "python",
   "pygments_lexer": "ipython3",
   "version": "3.10.18"
  }
 },
 "nbformat": 4,
 "nbformat_minor": 5
}
