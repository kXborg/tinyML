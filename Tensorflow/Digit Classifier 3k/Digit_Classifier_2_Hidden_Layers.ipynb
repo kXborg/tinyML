{
 "cells": [
  {
   "cell_type": "code",
   "execution_count": null,
   "id": "a7e4ecf5-0dfa-496b-b146-ad182762f624",
   "metadata": {},
   "outputs": [],
   "source": []
  },
  {
   "cell_type": "code",
   "execution_count": null,
   "id": "c70b17cb-4ec8-407c-b075-85fafff33513",
   "metadata": {},
   "outputs": [],
   "source": []
  },
  {
   "cell_type": "code",
   "execution_count": null,
   "id": "24b348f8-8c4f-4a65-bc7c-5d8bf4b7005b",
   "metadata": {},
   "outputs": [],
   "source": []
  },
  {
   "cell_type": "code",
   "execution_count": null,
   "id": "20d49ebc-ef97-4cda-bc20-6bf152de58ef",
   "metadata": {},
   "outputs": [],
   "source": [
    "!pip install scikit-learn"
   ]
  },
  {
   "cell_type": "code",
   "execution_count": 2,
   "id": "adb477cf-999f-45d1-897c-97d40d502fc6",
   "metadata": {},
   "outputs": [
    {
     "name": "stdout",
     "output_type": "stream",
     "text": [
      "Epoch 1/10\n",
      "45/45 [==============================] - 6s 10ms/step - loss: 2.2429 - accuracy: 0.1949 - val_loss: 2.1830 - val_accuracy: 0.2222\n",
      "Epoch 2/10\n",
      "45/45 [==============================] - 0s 3ms/step - loss: 2.0185 - accuracy: 0.4475 - val_loss: 1.8261 - val_accuracy: 0.6667\n",
      "Epoch 3/10\n",
      "45/45 [==============================] - 0s 3ms/step - loss: 1.5401 - accuracy: 0.7669 - val_loss: 1.2788 - val_accuracy: 0.8167\n",
      "Epoch 4/10\n",
      "45/45 [==============================] - 0s 3ms/step - loss: 1.0431 - accuracy: 0.8476 - val_loss: 0.8532 - val_accuracy: 0.8639\n",
      "Epoch 5/10\n",
      "45/45 [==============================] - 0s 3ms/step - loss: 0.7089 - accuracy: 0.8845 - val_loss: 0.6103 - val_accuracy: 0.8722\n",
      "Epoch 6/10\n",
      "45/45 [==============================] - 0s 3ms/step - loss: 0.5263 - accuracy: 0.8970 - val_loss: 0.4695 - val_accuracy: 0.8972\n",
      "Epoch 7/10\n",
      "45/45 [==============================] - 0s 3ms/step - loss: 0.4214 - accuracy: 0.9158 - val_loss: 0.3810 - val_accuracy: 0.9194\n",
      "Epoch 8/10\n",
      "45/45 [==============================] - 0s 3ms/step - loss: 0.3534 - accuracy: 0.9248 - val_loss: 0.3284 - val_accuracy: 0.9194\n",
      "Epoch 9/10\n",
      "45/45 [==============================] - 0s 3ms/step - loss: 0.3087 - accuracy: 0.9332 - val_loss: 0.2894 - val_accuracy: 0.9306\n",
      "Epoch 10/10\n",
      "45/45 [==============================] - 0s 3ms/step - loss: 0.2737 - accuracy: 0.9353 - val_loss: 0.2611 - val_accuracy: 0.9306\n"
     ]
    },
    {
     "name": "stderr",
     "output_type": "stream",
     "text": [
      "WARNING:absl:Found untraced functions such as _jit_compiled_convolution_op while saving (showing 1 of 1). These functions will not be directly callable after loading.\n"
     ]
    },
    {
     "name": "stdout",
     "output_type": "stream",
     "text": [
      "INFO:tensorflow:Assets written to: C:\\Users\\User\\AppData\\Local\\Temp\\tmpuswyf9dy\\assets\n"
     ]
    },
    {
     "name": "stderr",
     "output_type": "stream",
     "text": [
      "INFO:tensorflow:Assets written to: C:\\Users\\User\\AppData\\Local\\Temp\\tmpuswyf9dy\\assets\n",
      "C:\\Users\\User\\.conda\\envs\\tinyML\\lib\\site-packages\\tensorflow\\lite\\python\\convert.py:766: UserWarning: Statistics for quantized inputs were expected, but not specified; continuing anyway.\n",
      "  warnings.warn(\"Statistics for quantized inputs were expected, but not \"\n"
     ]
    }
   ],
   "source": [
    "import numpy as np\n",
    "import tensorflow as tf\n",
    "from sklearn.datasets import load_digits\n",
    "from sklearn.model_selection import train_test_split\n",
    "\n",
    "# Load dataset\n",
    "digits = load_digits()\n",
    "X = digits.images / 16.0\n",
    "y = digits.target\n",
    "X = X.reshape((-1, 8, 8, 1))\n",
    "X_train, X_test, y_train, y_test = train_test_split(X, y, test_size=0.2)\n",
    "\n",
    "# Build tiny CNN\n",
    "model = tf.keras.Sequential([\n",
    "    tf.keras.layers.Conv2D(4, (3,3), activation='relu', input_shape=(8,8,1)),\n",
    "    tf.keras.layers.Flatten(),\n",
    "    tf.keras.layers.Dense(10, activation='softmax')\n",
    "])\n",
    "model.compile(optimizer='adam', loss='sparse_categorical_crossentropy', metrics=['accuracy'])\n",
    "model.fit(X_train, y_train, epochs=10, validation_data=(X_test, y_test))\n",
    "\n",
    "# Representative dataset for int8 quantization\n",
    "def representative_dataset():\n",
    "    for i in range(len(X_train)):\n",
    "        yield [X_train[i:i+1].astype(np.float32)]\n",
    "\n",
    "# Convert to fully int8\n",
    "converter = tf.lite.TFLiteConverter.from_keras_model(model)\n",
    "converter.optimizations = [tf.lite.Optimize.DEFAULT]\n",
    "converter.representative_dataset = representative_dataset\n",
    "converter.target_spec.supported_ops = [tf.lite.OpsSet.TFLITE_BUILTINS_INT8]\n",
    "converter.inference_input_type = tf.int8\n",
    "converter.inference_output_type = tf.int8\n",
    "tflite_model = converter.convert()\n",
    "\n",
    "# Save fully int8 TFLite model\n",
    "with open(\"digit_model_int8.tflite\", \"wb\") as f:\n",
    "    f.write(tflite_model)\n"
   ]
  },
  {
   "cell_type": "markdown",
   "id": "609498a0-b58a-4b8c-86c3-6e8432956441",
   "metadata": {},
   "source": [
    "# orgohain"
   ]
  }
 ],
 "metadata": {
  "kernelspec": {
   "display_name": "tinyML",
   "language": "python",
   "name": "tinyml"
  },
  "language_info": {
   "codemirror_mode": {
    "name": "ipython",
    "version": 3
   },
   "file_extension": ".py",
   "mimetype": "text/x-python",
   "name": "python",
   "nbconvert_exporter": "python",
   "pygments_lexer": "ipython3",
   "version": "3.10.18"
  }
 },
 "nbformat": 4,
 "nbformat_minor": 5
}
