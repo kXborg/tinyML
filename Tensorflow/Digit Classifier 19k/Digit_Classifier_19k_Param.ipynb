{
 "cells": [
  {
   "cell_type": "code",
   "execution_count": 1,
   "id": "21d0e314-f706-4e5e-89eb-36bffed5082b",
   "metadata": {},
   "outputs": [],
   "source": [
    "import numpy as np\n",
    "import tensorflow as tf\n",
    "from sklearn.datasets import load_digits\n",
    "from sklearn.model_selection import train_test_split\n",
    "from sklearn.preprocessing import OneHotEncoder"
   ]
  },
  {
   "cell_type": "code",
   "execution_count": 2,
   "id": "b52850b0-f882-4c32-b748-86c94d0c04e0",
   "metadata": {},
   "outputs": [],
   "source": [
    "# Load dataset\n",
    "digits = load_digits()\n",
    "X = digits.images / 16.0\n",
    "y = digits.target.reshape(-1, 1)\n",
    "\n",
    "# One-hot encode labels\n",
    "encoder = OneHotEncoder(sparse_output=False)\n",
    "y_encoded = encoder.fit_transform(y)\n",
    "\n",
    "# Flatten (8x8 → 64 features)\n",
    "X = X.reshape(len(X), -1)\n",
    "\n",
    "# Train/test split\n",
    "X_train, X_test, y_train, y_test = train_test_split(\n",
    "    X, y_encoded, test_size=0.2, random_state=42\n",
    ")"
   ]
  },
  {
   "cell_type": "code",
   "execution_count": 3,
   "id": "e1106856-cbcc-4e71-add6-c62028a3c200",
   "metadata": {},
   "outputs": [],
   "source": [
    "# Bigger model (~19k params)\n",
    "model = tf.keras.Sequential([\n",
    "    tf.keras.layers.Dense(128, activation=\"relu\", input_shape=(64,)),\n",
    "    tf.keras.layers.Dense(64, activation=\"relu\"),\n",
    "    tf.keras.layers.Dense(32, activation=\"relu\"),\n",
    "    tf.keras.layers.Dense(10, activation=\"softmax\")\n",
    "])\n",
    "\n",
    "model.compile(\n",
    "    optimizer=\"adam\",\n",
    "    loss=\"categorical_crossentropy\",\n",
    "    metrics=[\"accuracy\"]\n",
    ")"
   ]
  },
  {
   "cell_type": "code",
   "execution_count": 4,
   "id": "7ce6c546-fffd-4e0e-b97b-685e01bfdcae",
   "metadata": {},
   "outputs": [
    {
     "name": "stdout",
     "output_type": "stream",
     "text": [
      "Epoch 1/30\n",
      "41/41 [==============================] - 3s 8ms/step - loss: 1.9602 - accuracy: 0.4532 - val_loss: 1.4083 - val_accuracy: 0.7431\n",
      "Epoch 2/30\n",
      "41/41 [==============================] - 0s 5ms/step - loss: 0.9244 - accuracy: 0.8175 - val_loss: 0.5352 - val_accuracy: 0.8819\n",
      "Epoch 3/30\n",
      "41/41 [==============================] - 0s 4ms/step - loss: 0.3605 - accuracy: 0.9258 - val_loss: 0.3199 - val_accuracy: 0.9097\n",
      "Epoch 4/30\n",
      "41/41 [==============================] - 0s 4ms/step - loss: 0.2185 - accuracy: 0.9559 - val_loss: 0.2213 - val_accuracy: 0.9306\n",
      "Epoch 5/30\n",
      "41/41 [==============================] - 0s 4ms/step - loss: 0.1657 - accuracy: 0.9598 - val_loss: 0.1839 - val_accuracy: 0.9444\n",
      "Epoch 6/30\n",
      "41/41 [==============================] - 0s 4ms/step - loss: 0.1293 - accuracy: 0.9683 - val_loss: 0.1394 - val_accuracy: 0.9583\n",
      "Epoch 7/30\n",
      "41/41 [==============================] - 0s 4ms/step - loss: 0.1073 - accuracy: 0.9722 - val_loss: 0.1607 - val_accuracy: 0.9375\n",
      "Epoch 8/30\n",
      "41/41 [==============================] - 0s 4ms/step - loss: 0.0947 - accuracy: 0.9807 - val_loss: 0.1352 - val_accuracy: 0.9514\n",
      "Epoch 9/30\n",
      "41/41 [==============================] - 0s 4ms/step - loss: 0.0855 - accuracy: 0.9807 - val_loss: 0.1409 - val_accuracy: 0.9583\n",
      "Epoch 10/30\n",
      "41/41 [==============================] - 0s 4ms/step - loss: 0.0675 - accuracy: 0.9853 - val_loss: 0.1358 - val_accuracy: 0.9514\n",
      "Epoch 11/30\n",
      "41/41 [==============================] - 0s 4ms/step - loss: 0.0627 - accuracy: 0.9861 - val_loss: 0.1734 - val_accuracy: 0.9444\n",
      "Epoch 12/30\n",
      "41/41 [==============================] - 0s 5ms/step - loss: 0.0587 - accuracy: 0.9861 - val_loss: 0.1002 - val_accuracy: 0.9653\n",
      "Epoch 13/30\n",
      "41/41 [==============================] - 0s 4ms/step - loss: 0.0505 - accuracy: 0.9892 - val_loss: 0.1030 - val_accuracy: 0.9583\n",
      "Epoch 14/30\n",
      "41/41 [==============================] - 0s 5ms/step - loss: 0.0422 - accuracy: 0.9907 - val_loss: 0.1027 - val_accuracy: 0.9583\n",
      "Epoch 15/30\n",
      "41/41 [==============================] - 0s 8ms/step - loss: 0.0332 - accuracy: 0.9938 - val_loss: 0.1296 - val_accuracy: 0.9514\n",
      "Epoch 16/30\n",
      "41/41 [==============================] - 0s 5ms/step - loss: 0.0312 - accuracy: 0.9961 - val_loss: 0.0988 - val_accuracy: 0.9583\n",
      "Epoch 17/30\n",
      "41/41 [==============================] - 0s 5ms/step - loss: 0.0343 - accuracy: 0.9923 - val_loss: 0.0696 - val_accuracy: 0.9792\n",
      "Epoch 18/30\n",
      "41/41 [==============================] - 0s 5ms/step - loss: 0.0265 - accuracy: 0.9938 - val_loss: 0.0973 - val_accuracy: 0.9583\n",
      "Epoch 19/30\n",
      "41/41 [==============================] - 0s 4ms/step - loss: 0.0227 - accuracy: 0.9969 - val_loss: 0.0766 - val_accuracy: 0.9653\n",
      "Epoch 20/30\n",
      "41/41 [==============================] - 0s 4ms/step - loss: 0.0373 - accuracy: 0.9907 - val_loss: 0.0908 - val_accuracy: 0.9653\n",
      "Epoch 21/30\n",
      "41/41 [==============================] - 0s 4ms/step - loss: 0.0190 - accuracy: 0.9977 - val_loss: 0.0942 - val_accuracy: 0.9722\n",
      "Epoch 22/30\n",
      "41/41 [==============================] - 0s 4ms/step - loss: 0.0214 - accuracy: 0.9977 - val_loss: 0.0685 - val_accuracy: 0.9722\n",
      "Epoch 23/30\n",
      "41/41 [==============================] - 0s 4ms/step - loss: 0.0144 - accuracy: 0.9977 - val_loss: 0.0542 - val_accuracy: 0.9792\n",
      "Epoch 24/30\n",
      "41/41 [==============================] - 0s 5ms/step - loss: 0.0138 - accuracy: 0.9977 - val_loss: 0.0825 - val_accuracy: 0.9653\n",
      "Epoch 25/30\n",
      "41/41 [==============================] - 0s 8ms/step - loss: 0.0143 - accuracy: 0.9985 - val_loss: 0.0620 - val_accuracy: 0.9722\n",
      "Epoch 26/30\n",
      "41/41 [==============================] - 0s 5ms/step - loss: 0.0109 - accuracy: 1.0000 - val_loss: 0.0618 - val_accuracy: 0.9722\n",
      "Epoch 27/30\n",
      "41/41 [==============================] - 0s 5ms/step - loss: 0.0091 - accuracy: 1.0000 - val_loss: 0.0622 - val_accuracy: 0.9722\n",
      "Epoch 28/30\n",
      "41/41 [==============================] - 0s 4ms/step - loss: 0.0093 - accuracy: 0.9992 - val_loss: 0.0504 - val_accuracy: 0.9861\n",
      "Epoch 29/30\n",
      "41/41 [==============================] - 0s 4ms/step - loss: 0.0067 - accuracy: 1.0000 - val_loss: 0.0651 - val_accuracy: 0.9722\n",
      "Epoch 30/30\n",
      "41/41 [==============================] - 0s 5ms/step - loss: 0.0060 - accuracy: 1.0000 - val_loss: 0.0532 - val_accuracy: 0.9722\n",
      "Test Accuracy: 0.9722\n",
      "Model: \"sequential\"\n",
      "_________________________________________________________________\n",
      " Layer (type)                Output Shape              Param #   \n",
      "=================================================================\n",
      " dense (Dense)               (None, 128)               8320      \n",
      "                                                                 \n",
      " dense_1 (Dense)             (None, 64)                8256      \n",
      "                                                                 \n",
      " dense_2 (Dense)             (None, 32)                2080      \n",
      "                                                                 \n",
      " dense_3 (Dense)             (None, 10)                330       \n",
      "                                                                 \n",
      "=================================================================\n",
      "Total params: 18,986\n",
      "Trainable params: 18,986\n",
      "Non-trainable params: 0\n",
      "_________________________________________________________________\n"
     ]
    }
   ],
   "source": [
    "history = model.fit(X_train, y_train, epochs=30, batch_size=32,\n",
    "                    validation_split=0.1, verbose=1)\n",
    "\n",
    "loss, acc = model.evaluate(X_test, y_test, verbose=0)\n",
    "print(f\"Test Accuracy: {acc:.4f}\")\n",
    "\n",
    "model.summary()"
   ]
  },
  {
   "cell_type": "code",
   "execution_count": 6,
   "id": "10af4f15-f10d-4405-b2ea-d7c49e551b7b",
   "metadata": {},
   "outputs": [
    {
     "name": "stdout",
     "output_type": "stream",
     "text": [
      "INFO:tensorflow:Assets written to: C:\\Users\\kukil\\AppData\\Local\\Temp\\tmpquhb08jf\\assets\n"
     ]
    },
    {
     "name": "stderr",
     "output_type": "stream",
     "text": [
      "INFO:tensorflow:Assets written to: C:\\Users\\kukil\\AppData\\Local\\Temp\\tmpquhb08jf\\assets\n"
     ]
    }
   ],
   "source": [
    "# Convert to float32 TFLite\n",
    "converter = tf.lite.TFLiteConverter.from_keras_model(model)\n",
    "tflite_model = converter.convert()\n",
    "\n",
    "with open(\"digits_model_19k.tflite\", \"wb\") as f:\n",
    "    f.write(tflite_model)"
   ]
  },
  {
   "cell_type": "code",
   "execution_count": 7,
   "id": "1a638879-830e-4b4e-a6a3-3271b0721946",
   "metadata": {},
   "outputs": [
    {
     "name": "stdout",
     "output_type": "stream",
     "text": [
      "INFO:tensorflow:Assets written to: C:\\Users\\kukil\\AppData\\Local\\Temp\\tmpwdzppm9u\\assets\n"
     ]
    },
    {
     "name": "stderr",
     "output_type": "stream",
     "text": [
      "INFO:tensorflow:Assets written to: C:\\Users\\kukil\\AppData\\Local\\Temp\\tmpwdzppm9u\\assets\n"
     ]
    }
   ],
   "source": [
    "# Quantization (dynamic range)\n",
    "converter.optimizations = [tf.lite.Optimize.DEFAULT]\n",
    "tflite_quant_model = converter.convert()\n",
    "\n",
    "with open(\"digits_model_quant_19k.tflite\", \"wb\") as f:\n",
    "    f.write(tflite_quant_model)"
   ]
  },
  {
   "cell_type": "code",
   "execution_count": 9,
   "id": "820e7772-60fe-4005-a635-5577f3a614f7",
   "metadata": {},
   "outputs": [],
   "source": [
    "!xxd -i digits_model_quant_19k.tflite > digits_model_quant_19k.h"
   ]
  },
  {
   "cell_type": "code",
   "execution_count": null,
   "id": "c6d252f7-3e68-4aa1-b9a8-fde8f21cfc9c",
   "metadata": {},
   "outputs": [],
   "source": []
  }
 ],
 "metadata": {
  "kernelspec": {
   "display_name": "tinyML",
   "language": "python",
   "name": "tinyml"
  },
  "language_info": {
   "codemirror_mode": {
    "name": "ipython",
    "version": 3
   },
   "file_extension": ".py",
   "mimetype": "text/x-python",
   "name": "python",
   "nbconvert_exporter": "python",
   "pygments_lexer": "ipython3",
   "version": "3.10.18"
  }
 },
 "nbformat": 4,
 "nbformat_minor": 5
}
