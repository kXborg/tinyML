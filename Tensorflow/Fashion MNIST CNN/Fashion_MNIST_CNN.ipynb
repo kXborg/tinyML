{
 "cells": [
  {
   "cell_type": "code",
   "execution_count": 1,
   "id": "98b7882f-12af-4f3d-95ad-f22d45543a70",
   "metadata": {},
   "outputs": [
    {
     "name": "stdout",
     "output_type": "stream",
     "text": [
      "Downloading data from https://storage.googleapis.com/tensorflow/tf-keras-datasets/train-labels-idx1-ubyte.gz\n",
      "29515/29515 [==============================] - 0s 2us/step\n",
      "Downloading data from https://storage.googleapis.com/tensorflow/tf-keras-datasets/train-images-idx3-ubyte.gz\n",
      "26421880/26421880 [==============================] - 6s 0us/step\n",
      "Downloading data from https://storage.googleapis.com/tensorflow/tf-keras-datasets/t10k-labels-idx1-ubyte.gz\n",
      "5148/5148 [==============================] - 0s 0s/step\n",
      "Downloading data from https://storage.googleapis.com/tensorflow/tf-keras-datasets/t10k-images-idx3-ubyte.gz\n",
      "4422102/4422102 [==============================] - 1s 0us/step\n",
      "Epoch 1/15\n",
      "844/844 [==============================] - 16s 11ms/step - loss: 0.5102 - accuracy: 0.8139 - val_loss: 0.3745 - val_accuracy: 0.8602\n",
      "Epoch 2/15\n",
      "844/844 [==============================] - 8s 10ms/step - loss: 0.3218 - accuracy: 0.8820 - val_loss: 0.3163 - val_accuracy: 0.8835\n",
      "Epoch 3/15\n",
      "844/844 [==============================] - 8s 10ms/step - loss: 0.2741 - accuracy: 0.9006 - val_loss: 0.2723 - val_accuracy: 0.9023\n",
      "Epoch 4/15\n",
      "844/844 [==============================] - 9s 10ms/step - loss: 0.2431 - accuracy: 0.9097 - val_loss: 0.2677 - val_accuracy: 0.9002\n",
      "Epoch 5/15\n",
      "844/844 [==============================] - 9s 10ms/step - loss: 0.2181 - accuracy: 0.9185 - val_loss: 0.2441 - val_accuracy: 0.9140\n",
      "Epoch 6/15\n",
      "844/844 [==============================] - 8s 10ms/step - loss: 0.1941 - accuracy: 0.9289 - val_loss: 0.2761 - val_accuracy: 0.9002\n",
      "Epoch 7/15\n",
      "844/844 [==============================] - 8s 10ms/step - loss: 0.1746 - accuracy: 0.9354 - val_loss: 0.2348 - val_accuracy: 0.9172\n",
      "Epoch 8/15\n",
      "844/844 [==============================] - 9s 10ms/step - loss: 0.1553 - accuracy: 0.9418 - val_loss: 0.2484 - val_accuracy: 0.9125\n",
      "Epoch 9/15\n",
      "844/844 [==============================] - 8s 10ms/step - loss: 0.1379 - accuracy: 0.9496 - val_loss: 0.2393 - val_accuracy: 0.9192\n",
      "Epoch 10/15\n",
      "844/844 [==============================] - 8s 10ms/step - loss: 0.1213 - accuracy: 0.9539 - val_loss: 0.2572 - val_accuracy: 0.9163\n",
      "Epoch 11/15\n",
      "844/844 [==============================] - 9s 10ms/step - loss: 0.1091 - accuracy: 0.9585 - val_loss: 0.2613 - val_accuracy: 0.9198\n",
      "Epoch 12/15\n",
      "844/844 [==============================] - 9s 10ms/step - loss: 0.0960 - accuracy: 0.9636 - val_loss: 0.2782 - val_accuracy: 0.9137\n",
      "Epoch 13/15\n",
      "844/844 [==============================] - 9s 10ms/step - loss: 0.0843 - accuracy: 0.9681 - val_loss: 0.3078 - val_accuracy: 0.9090\n",
      "Epoch 14/15\n",
      "844/844 [==============================] - 9s 10ms/step - loss: 0.0749 - accuracy: 0.9719 - val_loss: 0.3224 - val_accuracy: 0.9168\n",
      "Epoch 15/15\n",
      "844/844 [==============================] - 9s 10ms/step - loss: 0.0671 - accuracy: 0.9749 - val_loss: 0.3365 - val_accuracy: 0.9117\n",
      "Test Accuracy: 0.9109\n",
      "Model: \"sequential\"\n",
      "_________________________________________________________________\n",
      " Layer (type)                Output Shape              Param #   \n",
      "=================================================================\n",
      " conv2d (Conv2D)             (None, 26, 26, 32)        320       \n",
      "                                                                 \n",
      " max_pooling2d (MaxPooling2D  (None, 13, 13, 32)       0         \n",
      " )                                                               \n",
      "                                                                 \n",
      " conv2d_1 (Conv2D)           (None, 11, 11, 64)        18496     \n",
      "                                                                 \n",
      " max_pooling2d_1 (MaxPooling  (None, 5, 5, 64)         0         \n",
      " 2D)                                                             \n",
      "                                                                 \n",
      " conv2d_2 (Conv2D)           (None, 3, 3, 128)         73856     \n",
      "                                                                 \n",
      " flatten (Flatten)           (None, 1152)              0         \n",
      "                                                                 \n",
      " dense (Dense)               (None, 128)               147584    \n",
      "                                                                 \n",
      " dense_1 (Dense)             (None, 10)                1290      \n",
      "                                                                 \n",
      "=================================================================\n",
      "Total params: 241,546\n",
      "Trainable params: 241,546\n",
      "Non-trainable params: 0\n",
      "_________________________________________________________________\n"
     ]
    }
   ],
   "source": [
    "import numpy as np\n",
    "import tensorflow as tf\n",
    "from tensorflow.keras.datasets import fashion_mnist\n",
    "\n",
    "# Load dataset\n",
    "(X_train, y_train), (X_test, y_test) = fashion_mnist.load_data()\n",
    "\n",
    "# Normalize and reshape\n",
    "X_train = X_train.astype(\"float32\") / 255.0\n",
    "X_test  = X_test.astype(\"float32\") / 255.0\n",
    "X_train = np.expand_dims(X_train, -1)\n",
    "X_test  = np.expand_dims(X_test, -1)\n",
    "\n",
    "# One-hot encode labels\n",
    "y_train = tf.keras.utils.to_categorical(y_train, 10)\n",
    "y_test  = tf.keras.utils.to_categorical(y_test, 10)\n",
    "\n",
    "# CNN Model (≈185k params)\n",
    "model = tf.keras.Sequential([\n",
    "    tf.keras.layers.Conv2D(32, (3,3), activation=\"relu\", input_shape=(28,28,1)),\n",
    "    tf.keras.layers.MaxPooling2D((2,2)),\n",
    "\n",
    "    tf.keras.layers.Conv2D(64, (3,3), activation=\"relu\"),\n",
    "    tf.keras.layers.MaxPooling2D((2,2)),\n",
    "\n",
    "    tf.keras.layers.Conv2D(128, (3,3), activation=\"relu\"),\n",
    "    tf.keras.layers.Flatten(),\n",
    "\n",
    "    tf.keras.layers.Dense(128, activation=\"relu\"),\n",
    "    tf.keras.layers.Dense(10, activation=\"softmax\")\n",
    "])\n",
    "\n",
    "model.compile(\n",
    "    optimizer=\"adam\",\n",
    "    loss=\"categorical_crossentropy\",\n",
    "    metrics=[\"accuracy\"]\n",
    ")\n",
    "\n",
    "history = model.fit(X_train, y_train, epochs=15, batch_size=64,\n",
    "                    validation_split=0.1, verbose=1)\n",
    "\n",
    "loss, acc = model.evaluate(X_test, y_test, verbose=0)\n",
    "print(f\"Test Accuracy: {acc:.4f}\")\n",
    "\n",
    "model.summary()"
   ]
  },
  {
   "cell_type": "code",
   "execution_count": 2,
   "id": "4aa32e13-184a-4a9c-9e2d-ccc2882a0e98",
   "metadata": {},
   "outputs": [
    {
     "name": "stderr",
     "output_type": "stream",
     "text": [
      "WARNING:absl:Found untraced functions such as _jit_compiled_convolution_op, _jit_compiled_convolution_op, _jit_compiled_convolution_op while saving (showing 3 of 3). These functions will not be directly callable after loading.\n"
     ]
    },
    {
     "name": "stdout",
     "output_type": "stream",
     "text": [
      "INFO:tensorflow:Assets written to: C:\\Users\\kukil\\AppData\\Local\\Temp\\tmp2791j2ug\\assets\n"
     ]
    },
    {
     "name": "stderr",
     "output_type": "stream",
     "text": [
      "INFO:tensorflow:Assets written to: C:\\Users\\kukil\\AppData\\Local\\Temp\\tmp2791j2ug\\assets\n",
      "WARNING:absl:Found untraced functions such as _jit_compiled_convolution_op, _jit_compiled_convolution_op, _jit_compiled_convolution_op while saving (showing 3 of 3). These functions will not be directly callable after loading.\n"
     ]
    },
    {
     "name": "stdout",
     "output_type": "stream",
     "text": [
      "INFO:tensorflow:Assets written to: C:\\Users\\kukil\\AppData\\Local\\Temp\\tmpucvz35l6\\assets\n"
     ]
    },
    {
     "name": "stderr",
     "output_type": "stream",
     "text": [
      "INFO:tensorflow:Assets written to: C:\\Users\\kukil\\AppData\\Local\\Temp\\tmpucvz35l6\\assets\n"
     ]
    }
   ],
   "source": [
    "# Float32 model\n",
    "converter = tf.lite.TFLiteConverter.from_keras_model(model)\n",
    "tflite_model = converter.convert()\n",
    "with open(\"fashion_cnn.tflite\", \"wb\") as f:\n",
    "    f.write(tflite_model)\n",
    "\n",
    "# Quantized int8 model\n",
    "converter.optimizations = [tf.lite.Optimize.DEFAULT]\n",
    "tflite_quant_model = converter.convert()\n",
    "with open(\"fashion_cnn_quant.tflite\", \"wb\") as f:\n",
    "    f.write(tflite_quant_model)\n"
   ]
  },
  {
   "cell_type": "code",
   "execution_count": 3,
   "id": "b5483993-f449-4600-aaa4-2045f16271c2",
   "metadata": {},
   "outputs": [],
   "source": [
    "!xxd -i fashion_cnn_quant.tflite > fashion_cnn_quant.h"
   ]
  },
  {
   "cell_type": "code",
   "execution_count": null,
   "id": "91268512-3e95-41de-ad1c-972c8f501a8b",
   "metadata": {},
   "outputs": [],
   "source": []
  }
 ],
 "metadata": {
  "kernelspec": {
   "display_name": "tinyML",
   "language": "python",
   "name": "tinyml"
  },
  "language_info": {
   "codemirror_mode": {
    "name": "ipython",
    "version": 3
   },
   "file_extension": ".py",
   "mimetype": "text/x-python",
   "name": "python",
   "nbconvert_exporter": "python",
   "pygments_lexer": "ipython3",
   "version": "3.10.18"
  }
 },
 "nbformat": 4,
 "nbformat_minor": 5
}
