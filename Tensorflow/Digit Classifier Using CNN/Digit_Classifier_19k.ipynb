{
 "cells": [
  {
   "cell_type": "code",
   "execution_count": 1,
   "id": "f90ac07e-fa2b-41e0-ab5d-b5832584fe0d",
   "metadata": {},
   "outputs": [
    {
     "name": "stdout",
     "output_type": "stream",
     "text": [
      "Epoch 1/30\n",
      "41/41 [==============================] - 9s 30ms/step - loss: 2.2607 - accuracy: 0.1616 - val_loss: 2.2188 - val_accuracy: 0.2014\n",
      "Epoch 2/30\n",
      "41/41 [==============================] - 0s 5ms/step - loss: 2.1069 - accuracy: 0.3372 - val_loss: 2.0069 - val_accuracy: 0.3333\n",
      "Epoch 3/30\n",
      "41/41 [==============================] - 0s 4ms/step - loss: 1.7577 - accuracy: 0.5097 - val_loss: 1.5758 - val_accuracy: 0.5486\n",
      "Epoch 4/30\n",
      "41/41 [==============================] - 0s 4ms/step - loss: 1.2597 - accuracy: 0.7378 - val_loss: 1.0407 - val_accuracy: 0.7639\n",
      "Epoch 5/30\n",
      "41/41 [==============================] - 0s 4ms/step - loss: 0.8577 - accuracy: 0.8221 - val_loss: 0.7112 - val_accuracy: 0.8333\n",
      "Epoch 6/30\n",
      "41/41 [==============================] - 0s 5ms/step - loss: 0.6296 - accuracy: 0.8592 - val_loss: 0.5536 - val_accuracy: 0.8819\n",
      "Epoch 7/30\n",
      "41/41 [==============================] - 0s 4ms/step - loss: 0.4969 - accuracy: 0.8817 - val_loss: 0.4232 - val_accuracy: 0.8819\n",
      "Epoch 8/30\n",
      "41/41 [==============================] - 0s 5ms/step - loss: 0.4138 - accuracy: 0.8987 - val_loss: 0.3907 - val_accuracy: 0.9097\n",
      "Epoch 9/30\n",
      "41/41 [==============================] - 0s 5ms/step - loss: 0.3638 - accuracy: 0.9010 - val_loss: 0.3182 - val_accuracy: 0.9097\n",
      "Epoch 10/30\n",
      "41/41 [==============================] - 0s 5ms/step - loss: 0.3223 - accuracy: 0.9157 - val_loss: 0.2769 - val_accuracy: 0.9236\n",
      "Epoch 11/30\n",
      "41/41 [==============================] - 0s 6ms/step - loss: 0.2889 - accuracy: 0.9111 - val_loss: 0.2861 - val_accuracy: 0.9097\n",
      "Epoch 12/30\n",
      "41/41 [==============================] - 0s 11ms/step - loss: 0.2598 - accuracy: 0.9258 - val_loss: 0.2584 - val_accuracy: 0.9236\n",
      "Epoch 13/30\n",
      "41/41 [==============================] - 0s 5ms/step - loss: 0.2343 - accuracy: 0.9304 - val_loss: 0.2292 - val_accuracy: 0.9306\n",
      "Epoch 14/30\n",
      "41/41 [==============================] - 0s 4ms/step - loss: 0.2207 - accuracy: 0.9397 - val_loss: 0.1969 - val_accuracy: 0.9306\n",
      "Epoch 15/30\n",
      "41/41 [==============================] - 0s 4ms/step - loss: 0.2103 - accuracy: 0.9428 - val_loss: 0.1831 - val_accuracy: 0.9306\n",
      "Epoch 16/30\n",
      "41/41 [==============================] - 0s 4ms/step - loss: 0.1906 - accuracy: 0.9443 - val_loss: 0.1843 - val_accuracy: 0.9306\n",
      "Epoch 17/30\n",
      "41/41 [==============================] - 0s 4ms/step - loss: 0.1808 - accuracy: 0.9513 - val_loss: 0.1813 - val_accuracy: 0.9444\n",
      "Epoch 18/30\n",
      "41/41 [==============================] - 0s 4ms/step - loss: 0.1687 - accuracy: 0.9582 - val_loss: 0.1624 - val_accuracy: 0.9444\n",
      "Epoch 19/30\n",
      "41/41 [==============================] - 0s 4ms/step - loss: 0.1599 - accuracy: 0.9606 - val_loss: 0.1720 - val_accuracy: 0.9236\n",
      "Epoch 20/30\n",
      "41/41 [==============================] - 0s 6ms/step - loss: 0.1516 - accuracy: 0.9613 - val_loss: 0.1598 - val_accuracy: 0.9444\n",
      "Epoch 21/30\n",
      "41/41 [==============================] - 0s 11ms/step - loss: 0.1466 - accuracy: 0.9544 - val_loss: 0.1475 - val_accuracy: 0.9375\n",
      "Epoch 22/30\n",
      "41/41 [==============================] - 0s 5ms/step - loss: 0.1325 - accuracy: 0.9637 - val_loss: 0.1302 - val_accuracy: 0.9583\n",
      "Epoch 23/30\n",
      "41/41 [==============================] - 0s 4ms/step - loss: 0.1309 - accuracy: 0.9667 - val_loss: 0.1348 - val_accuracy: 0.9375\n",
      "Epoch 24/30\n",
      "41/41 [==============================] - 0s 4ms/step - loss: 0.1151 - accuracy: 0.9706 - val_loss: 0.1170 - val_accuracy: 0.9444\n",
      "Epoch 25/30\n",
      "41/41 [==============================] - 0s 4ms/step - loss: 0.1150 - accuracy: 0.9691 - val_loss: 0.1294 - val_accuracy: 0.9444\n",
      "Epoch 26/30\n",
      "41/41 [==============================] - 0s 5ms/step - loss: 0.1049 - accuracy: 0.9698 - val_loss: 0.1449 - val_accuracy: 0.9375\n",
      "Epoch 27/30\n",
      "41/41 [==============================] - 0s 4ms/step - loss: 0.1008 - accuracy: 0.9722 - val_loss: 0.1014 - val_accuracy: 0.9653\n",
      "Epoch 28/30\n",
      "41/41 [==============================] - 0s 5ms/step - loss: 0.0956 - accuracy: 0.9745 - val_loss: 0.1055 - val_accuracy: 0.9583\n",
      "Epoch 29/30\n",
      "41/41 [==============================] - 0s 4ms/step - loss: 0.0934 - accuracy: 0.9737 - val_loss: 0.1018 - val_accuracy: 0.9583\n",
      "Epoch 30/30\n",
      "41/41 [==============================] - 0s 4ms/step - loss: 0.0892 - accuracy: 0.9753 - val_loss: 0.1177 - val_accuracy: 0.9444\n",
      "Test Accuracy: 0.9722\n",
      "Model: \"sequential\"\n",
      "_________________________________________________________________\n",
      " Layer (type)                Output Shape              Param #   \n",
      "=================================================================\n",
      " conv2d (Conv2D)             (None, 6, 6, 8)           80        \n",
      "                                                                 \n",
      " max_pooling2d (MaxPooling2D  (None, 3, 3, 8)          0         \n",
      " )                                                               \n",
      "                                                                 \n",
      " conv2d_1 (Conv2D)           (None, 1, 1, 16)          1168      \n",
      "                                                                 \n",
      " flatten (Flatten)           (None, 16)                0         \n",
      "                                                                 \n",
      " dense (Dense)               (None, 32)                544       \n",
      "                                                                 \n",
      " dense_1 (Dense)             (None, 10)                330       \n",
      "                                                                 \n",
      "=================================================================\n",
      "Total params: 2,122\n",
      "Trainable params: 2,122\n",
      "Non-trainable params: 0\n",
      "_________________________________________________________________\n"
     ]
    }
   ],
   "source": [
    "import numpy as np\n",
    "import tensorflow as tf\n",
    "from sklearn.datasets import load_digits\n",
    "from sklearn.model_selection import train_test_split\n",
    "from sklearn.preprocessing import OneHotEncoder\n",
    "\n",
    "# Load dataset\n",
    "digits = load_digits()\n",
    "X = digits.images / 16.0\n",
    "y = digits.target.reshape(-1, 1)\n",
    "\n",
    "# One-hot encode labels\n",
    "encoder = OneHotEncoder(sparse_output=False)\n",
    "y_encoded = encoder.fit_transform(y)\n",
    "\n",
    "# Reshape to 8x8x1 for CNN\n",
    "X = X.reshape(-1, 8, 8, 1)\n",
    "\n",
    "# Train/test split\n",
    "X_train, X_test, y_train, y_test = train_test_split(\n",
    "    X, y_encoded, test_size=0.2, random_state=42\n",
    ")\n",
    "\n",
    "# Tiny CNN\n",
    "model = tf.keras.Sequential([\n",
    "    tf.keras.layers.Conv2D(8, (3,3), activation=\"relu\", input_shape=(8,8,1)),\n",
    "    tf.keras.layers.MaxPooling2D((2,2)),\n",
    "    tf.keras.layers.Conv2D(16, (3,3), activation=\"relu\"),\n",
    "    tf.keras.layers.Flatten(),\n",
    "    tf.keras.layers.Dense(32, activation=\"relu\"),\n",
    "    tf.keras.layers.Dense(10, activation=\"softmax\")\n",
    "])\n",
    "\n",
    "model.compile(\n",
    "    optimizer=\"adam\",\n",
    "    loss=\"categorical_crossentropy\",\n",
    "    metrics=[\"accuracy\"]\n",
    ")\n",
    "\n",
    "history = model.fit(X_train, y_train, epochs=30, batch_size=32,\n",
    "                    validation_split=0.1, verbose=1)\n",
    "\n",
    "loss, acc = model.evaluate(X_test, y_test, verbose=0)\n",
    "print(f\"Test Accuracy: {acc:.4f}\")\n",
    "\n",
    "model.summary()"
   ]
  },
  {
   "cell_type": "code",
   "execution_count": 2,
   "id": "950c2220-7e3e-4985-a9a7-291f4c0622ad",
   "metadata": {},
   "outputs": [
    {
     "name": "stderr",
     "output_type": "stream",
     "text": [
      "WARNING:absl:Found untraced functions such as _jit_compiled_convolution_op, _jit_compiled_convolution_op while saving (showing 2 of 2). These functions will not be directly callable after loading.\n"
     ]
    },
    {
     "name": "stdout",
     "output_type": "stream",
     "text": [
      "INFO:tensorflow:Assets written to: C:\\Users\\kukil\\AppData\\Local\\Temp\\tmp2wq548ln\\assets\n"
     ]
    },
    {
     "name": "stderr",
     "output_type": "stream",
     "text": [
      "INFO:tensorflow:Assets written to: C:\\Users\\kukil\\AppData\\Local\\Temp\\tmp2wq548ln\\assets\n",
      "WARNING:absl:Found untraced functions such as _jit_compiled_convolution_op, _jit_compiled_convolution_op while saving (showing 2 of 2). These functions will not be directly callable after loading.\n"
     ]
    },
    {
     "name": "stdout",
     "output_type": "stream",
     "text": [
      "INFO:tensorflow:Assets written to: C:\\Users\\kukil\\AppData\\Local\\Temp\\tmpv6r4vdty\\assets\n"
     ]
    },
    {
     "name": "stderr",
     "output_type": "stream",
     "text": [
      "INFO:tensorflow:Assets written to: C:\\Users\\kukil\\AppData\\Local\\Temp\\tmpv6r4vdty\\assets\n"
     ]
    }
   ],
   "source": [
    "# Convert float32 TFLite\n",
    "converter = tf.lite.TFLiteConverter.from_keras_model(model)\n",
    "tflite_model = converter.convert()\n",
    "with open(\"digits_cnn.tflite\", \"wb\") as f:\n",
    "    f.write(tflite_model)\n",
    "\n",
    "# Quantize to int8\n",
    "converter.optimizations = [tf.lite.Optimize.DEFAULT]\n",
    "tflite_quant_model = converter.convert()\n",
    "with open(\"digits_cnn_quant.tflite\", \"wb\") as f:\n",
    "    f.write(tflite_quant_model)\n"
   ]
  },
  {
   "cell_type": "code",
   "execution_count": 3,
   "id": "9805648e-ead9-41ea-82d6-432791190126",
   "metadata": {},
   "outputs": [],
   "source": [
    "!xxd -i digits_cnn_quant.tflite > digits_cnn_quant.h"
   ]
  },
  {
   "cell_type": "code",
   "execution_count": null,
   "id": "413123ef-c979-48ad-aec3-ddd051c5b071",
   "metadata": {},
   "outputs": [],
   "source": []
  }
 ],
 "metadata": {
  "kernelspec": {
   "display_name": "tinyML",
   "language": "python",
   "name": "tinyml"
  },
  "language_info": {
   "codemirror_mode": {
    "name": "ipython",
    "version": 3
   },
   "file_extension": ".py",
   "mimetype": "text/x-python",
   "name": "python",
   "nbconvert_exporter": "python",
   "pygments_lexer": "ipython3",
   "version": "3.10.18"
  }
 },
 "nbformat": 4,
 "nbformat_minor": 5
}
